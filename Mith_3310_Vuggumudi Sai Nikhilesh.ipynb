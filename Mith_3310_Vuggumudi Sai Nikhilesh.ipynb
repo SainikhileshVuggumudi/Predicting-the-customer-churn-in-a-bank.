{
 "cells": [
  {
   "cell_type": "markdown",
   "metadata": {},
   "source": [
    "# Introduction"
   ]
  },
  {
   "cell_type": "markdown",
   "metadata": {},
   "source": [
    "We aim to accomplist the following for this study:\n",
    "\n",
    "1.Identify and visualize which factors contribute to customer churn:\n",
    "\n",
    "2.Build a prediction model that will perform the following:\n",
    "\n",
    "    * Classify if a customer is going to churn or not"
   ]
  },
  {
   "cell_type": "code",
   "execution_count": 2,
   "metadata": {},
   "outputs": [],
   "source": [
    "## REQUIRED LIBRARIES\n",
    "# For data wrangling \n",
    "import numpy as np\n",
    "import pandas as pd\n",
    "\n",
    "# For visualization\n",
    "import matplotlib.pyplot as plt\n",
    "%matplotlib inline\n",
    "import seaborn as sns\n"
   ]
  },
  {
   "cell_type": "code",
   "execution_count": 3,
   "metadata": {},
   "outputs": [
    {
     "name": "stdout",
     "output_type": "stream",
     "text": [
      "(7360, 21)\n",
      "(1840, 20)\n"
     ]
    }
   ],
   "source": [
    "# Read the data frame\n",
    "Train_data = pd.read_excel('train_data.xlsx')\n",
    "Test_data = pd.read_excel('test_data.xlsx')\n",
    "#shape of the data\n",
    "print(Train_data.shape)\n",
    "print(Test_data.shape)"
   ]
  },
  {
   "cell_type": "markdown",
   "metadata": {},
   "source": [
    "The Train_data has 7360 rows with 21 attributes. We review this further to identify what attributes will be necessary and what data manipulation needs to be carried out before Exploratory analysis and prediction modelling"
   ]
  },
  {
   "cell_type": "code",
   "execution_count": 4,
   "metadata": {},
   "outputs": [
    {
     "data": {
      "text/html": [
       "<div>\n",
       "<style scoped>\n",
       "    .dataframe tbody tr th:only-of-type {\n",
       "        vertical-align: middle;\n",
       "    }\n",
       "\n",
       "    .dataframe tbody tr th {\n",
       "        vertical-align: top;\n",
       "    }\n",
       "\n",
       "    .dataframe thead th {\n",
       "        text-align: right;\n",
       "    }\n",
       "</style>\n",
       "<table border=\"1\" class=\"dataframe\">\n",
       "  <thead>\n",
       "    <tr style=\"text-align: right;\">\n",
       "      <th></th>\n",
       "      <th>CustomerID</th>\n",
       "      <th>CustomerName</th>\n",
       "      <th>yearofBirth</th>\n",
       "      <th>monthofBirth</th>\n",
       "      <th>dayofBirth</th>\n",
       "      <th>yearofEntry</th>\n",
       "      <th>monthofEntry</th>\n",
       "      <th>dayofEntry</th>\n",
       "      <th>Gender</th>\n",
       "      <th>Location</th>\n",
       "      <th>...</th>\n",
       "      <th>MaritalStatus</th>\n",
       "      <th>Occupation</th>\n",
       "      <th>Ownhouse</th>\n",
       "      <th>CreditScore</th>\n",
       "      <th>AccountBalance</th>\n",
       "      <th>NumberOfProducts</th>\n",
       "      <th>IsCreditCardCustomer</th>\n",
       "      <th>ActiveMember</th>\n",
       "      <th>Salary</th>\n",
       "      <th>Churn</th>\n",
       "    </tr>\n",
       "  </thead>\n",
       "  <tbody>\n",
       "    <tr>\n",
       "      <th>0</th>\n",
       "      <td>C5814651</td>\n",
       "      <td>Name_5814651</td>\n",
       "      <td>1980</td>\n",
       "      <td>5</td>\n",
       "      <td>12</td>\n",
       "      <td>2014</td>\n",
       "      <td>11</td>\n",
       "      <td>28</td>\n",
       "      <td>Male</td>\n",
       "      <td>Location11</td>\n",
       "      <td>...</td>\n",
       "      <td>divorced</td>\n",
       "      <td>management</td>\n",
       "      <td>no</td>\n",
       "      <td>716</td>\n",
       "      <td>0.00</td>\n",
       "      <td>2</td>\n",
       "      <td>1</td>\n",
       "      <td>0</td>\n",
       "      <td>189678.70</td>\n",
       "      <td>0</td>\n",
       "    </tr>\n",
       "    <tr>\n",
       "      <th>1</th>\n",
       "      <td>C6465787</td>\n",
       "      <td>Name_6465787</td>\n",
       "      <td>1986</td>\n",
       "      <td>12</td>\n",
       "      <td>28</td>\n",
       "      <td>2011</td>\n",
       "      <td>8</td>\n",
       "      <td>17</td>\n",
       "      <td>Female</td>\n",
       "      <td>Location13</td>\n",
       "      <td>...</td>\n",
       "      <td>divorced</td>\n",
       "      <td>admin.</td>\n",
       "      <td>no</td>\n",
       "      <td>568</td>\n",
       "      <td>169399.60</td>\n",
       "      <td>1</td>\n",
       "      <td>1</td>\n",
       "      <td>0</td>\n",
       "      <td>61936.22</td>\n",
       "      <td>0</td>\n",
       "    </tr>\n",
       "    <tr>\n",
       "      <th>2</th>\n",
       "      <td>C3824349</td>\n",
       "      <td>Name_3824349</td>\n",
       "      <td>1999</td>\n",
       "      <td>11</td>\n",
       "      <td>23</td>\n",
       "      <td>2013</td>\n",
       "      <td>12</td>\n",
       "      <td>9</td>\n",
       "      <td>Male</td>\n",
       "      <td>Location13</td>\n",
       "      <td>...</td>\n",
       "      <td>married</td>\n",
       "      <td>unknown</td>\n",
       "      <td>unknown</td>\n",
       "      <td>739</td>\n",
       "      <td>89750.21</td>\n",
       "      <td>1</td>\n",
       "      <td>1</td>\n",
       "      <td>0</td>\n",
       "      <td>193008.52</td>\n",
       "      <td>0</td>\n",
       "    </tr>\n",
       "    <tr>\n",
       "      <th>3</th>\n",
       "      <td>C8431888</td>\n",
       "      <td>Name_8431888</td>\n",
       "      <td>1969</td>\n",
       "      <td>4</td>\n",
       "      <td>6</td>\n",
       "      <td>2015</td>\n",
       "      <td>12</td>\n",
       "      <td>12</td>\n",
       "      <td>Female</td>\n",
       "      <td>Location11</td>\n",
       "      <td>...</td>\n",
       "      <td>married</td>\n",
       "      <td>admin.</td>\n",
       "      <td>yes</td>\n",
       "      <td>678</td>\n",
       "      <td>204510.94</td>\n",
       "      <td>1</td>\n",
       "      <td>0</td>\n",
       "      <td>1</td>\n",
       "      <td>738.88</td>\n",
       "      <td>1</td>\n",
       "    </tr>\n",
       "    <tr>\n",
       "      <th>4</th>\n",
       "      <td>C2944860</td>\n",
       "      <td>Name_2944860</td>\n",
       "      <td>1993</td>\n",
       "      <td>6</td>\n",
       "      <td>15</td>\n",
       "      <td>2012</td>\n",
       "      <td>10</td>\n",
       "      <td>10</td>\n",
       "      <td>Male</td>\n",
       "      <td>Location13</td>\n",
       "      <td>...</td>\n",
       "      <td>single</td>\n",
       "      <td>management</td>\n",
       "      <td>no</td>\n",
       "      <td>670</td>\n",
       "      <td>0.00</td>\n",
       "      <td>2</td>\n",
       "      <td>1</td>\n",
       "      <td>1</td>\n",
       "      <td>78358.94</td>\n",
       "      <td>0</td>\n",
       "    </tr>\n",
       "  </tbody>\n",
       "</table>\n",
       "<p>5 rows × 21 columns</p>\n",
       "</div>"
      ],
      "text/plain": [
       "  CustomerID  CustomerName  yearofBirth  monthofBirth  dayofBirth  \\\n",
       "0   C5814651  Name_5814651         1980             5          12   \n",
       "1   C6465787  Name_6465787         1986            12          28   \n",
       "2   C3824349  Name_3824349         1999            11          23   \n",
       "3   C8431888  Name_8431888         1969             4           6   \n",
       "4   C2944860  Name_2944860         1993             6          15   \n",
       "\n",
       "   yearofEntry  monthofEntry  dayofEntry  Gender    Location  ...  \\\n",
       "0         2014            11          28    Male  Location11  ...   \n",
       "1         2011             8          17  Female  Location13  ...   \n",
       "2         2013            12           9    Male  Location13  ...   \n",
       "3         2015            12          12  Female  Location11  ...   \n",
       "4         2012            10          10    Male  Location13  ...   \n",
       "\n",
       "  MaritalStatus  Occupation Ownhouse CreditScore  AccountBalance  \\\n",
       "0      divorced  management       no         716            0.00   \n",
       "1      divorced      admin.       no         568       169399.60   \n",
       "2       married     unknown  unknown         739        89750.21   \n",
       "3       married      admin.      yes         678       204510.94   \n",
       "4        single  management       no         670            0.00   \n",
       "\n",
       "   NumberOfProducts  IsCreditCardCustomer  ActiveMember     Salary  Churn  \n",
       "0                 2                     1             0  189678.70      0  \n",
       "1                 1                     1             0   61936.22      0  \n",
       "2                 1                     1             0  193008.52      0  \n",
       "3                 1                     0             1     738.88      1  \n",
       "4                 2                     1             1   78358.94      0  \n",
       "\n",
       "[5 rows x 21 columns]"
      ]
     },
     "execution_count": 4,
     "metadata": {},
     "output_type": "execute_result"
    }
   ],
   "source": [
    "Train_data.head()"
   ]
  },
  {
   "cell_type": "code",
   "execution_count": 5,
   "metadata": {},
   "outputs": [
    {
     "data": {
      "text/html": [
       "<div>\n",
       "<style scoped>\n",
       "    .dataframe tbody tr th:only-of-type {\n",
       "        vertical-align: middle;\n",
       "    }\n",
       "\n",
       "    .dataframe tbody tr th {\n",
       "        vertical-align: top;\n",
       "    }\n",
       "\n",
       "    .dataframe thead th {\n",
       "        text-align: right;\n",
       "    }\n",
       "</style>\n",
       "<table border=\"1\" class=\"dataframe\">\n",
       "  <thead>\n",
       "    <tr style=\"text-align: right;\">\n",
       "      <th></th>\n",
       "      <th>CustomerID</th>\n",
       "      <th>CustomerName</th>\n",
       "      <th>yearofBirth</th>\n",
       "      <th>monthofBirth</th>\n",
       "      <th>dayofBirth</th>\n",
       "      <th>yearofEntry</th>\n",
       "      <th>monthofEntry</th>\n",
       "      <th>dayofEntry</th>\n",
       "      <th>Gender</th>\n",
       "      <th>Location</th>\n",
       "      <th>Education</th>\n",
       "      <th>MaritalStatus</th>\n",
       "      <th>Occupation</th>\n",
       "      <th>Ownhouse</th>\n",
       "      <th>CreditScore</th>\n",
       "      <th>AccountBalance</th>\n",
       "      <th>NumberOfProducts</th>\n",
       "      <th>IsCreditCardCustomer</th>\n",
       "      <th>ActiveMember</th>\n",
       "      <th>Salary</th>\n",
       "    </tr>\n",
       "  </thead>\n",
       "  <tbody>\n",
       "    <tr>\n",
       "      <th>0</th>\n",
       "      <td>C5993228</td>\n",
       "      <td>Name_5993228</td>\n",
       "      <td>1972</td>\n",
       "      <td>5</td>\n",
       "      <td>5</td>\n",
       "      <td>2015</td>\n",
       "      <td>12</td>\n",
       "      <td>16</td>\n",
       "      <td>Male</td>\n",
       "      <td>Location13</td>\n",
       "      <td>unknown</td>\n",
       "      <td>single</td>\n",
       "      <td>management</td>\n",
       "      <td>yes</td>\n",
       "      <td>624</td>\n",
       "      <td>0.00</td>\n",
       "      <td>2</td>\n",
       "      <td>1</td>\n",
       "      <td>1</td>\n",
       "      <td>62825.03</td>\n",
       "    </tr>\n",
       "    <tr>\n",
       "      <th>1</th>\n",
       "      <td>C6546925</td>\n",
       "      <td>Name_6546925</td>\n",
       "      <td>1990</td>\n",
       "      <td>12</td>\n",
       "      <td>27</td>\n",
       "      <td>2016</td>\n",
       "      <td>11</td>\n",
       "      <td>26</td>\n",
       "      <td>Female</td>\n",
       "      <td>Location11</td>\n",
       "      <td>primary</td>\n",
       "      <td>married</td>\n",
       "      <td>admin.</td>\n",
       "      <td>yes</td>\n",
       "      <td>777</td>\n",
       "      <td>134571.50</td>\n",
       "      <td>1</td>\n",
       "      <td>0</td>\n",
       "      <td>1</td>\n",
       "      <td>118313.38</td>\n",
       "    </tr>\n",
       "    <tr>\n",
       "      <th>2</th>\n",
       "      <td>C7491750</td>\n",
       "      <td>Name_7491750</td>\n",
       "      <td>1966</td>\n",
       "      <td>7</td>\n",
       "      <td>25</td>\n",
       "      <td>2011</td>\n",
       "      <td>10</td>\n",
       "      <td>24</td>\n",
       "      <td>Female</td>\n",
       "      <td>Location13</td>\n",
       "      <td>primary</td>\n",
       "      <td>married</td>\n",
       "      <td>admin.</td>\n",
       "      <td>yes</td>\n",
       "      <td>707</td>\n",
       "      <td>0.00</td>\n",
       "      <td>1</td>\n",
       "      <td>1</td>\n",
       "      <td>0</td>\n",
       "      <td>109688.82</td>\n",
       "    </tr>\n",
       "    <tr>\n",
       "      <th>3</th>\n",
       "      <td>C8462011</td>\n",
       "      <td>Name_8462011</td>\n",
       "      <td>1983</td>\n",
       "      <td>7</td>\n",
       "      <td>7</td>\n",
       "      <td>2016</td>\n",
       "      <td>7</td>\n",
       "      <td>9</td>\n",
       "      <td>Male</td>\n",
       "      <td>Location11</td>\n",
       "      <td>secondary</td>\n",
       "      <td>divorced</td>\n",
       "      <td>management</td>\n",
       "      <td>no</td>\n",
       "      <td>746</td>\n",
       "      <td>172274.01</td>\n",
       "      <td>1</td>\n",
       "      <td>1</td>\n",
       "      <td>0</td>\n",
       "      <td>22374.97</td>\n",
       "    </tr>\n",
       "    <tr>\n",
       "      <th>4</th>\n",
       "      <td>C3187447</td>\n",
       "      <td>Name_3187447</td>\n",
       "      <td>1983</td>\n",
       "      <td>8</td>\n",
       "      <td>9</td>\n",
       "      <td>2009</td>\n",
       "      <td>5</td>\n",
       "      <td>15</td>\n",
       "      <td>Male</td>\n",
       "      <td>Location11</td>\n",
       "      <td>tertiary</td>\n",
       "      <td>divorced</td>\n",
       "      <td>management</td>\n",
       "      <td>no</td>\n",
       "      <td>762</td>\n",
       "      <td>0.00</td>\n",
       "      <td>2</td>\n",
       "      <td>1</td>\n",
       "      <td>1</td>\n",
       "      <td>43075.70</td>\n",
       "    </tr>\n",
       "  </tbody>\n",
       "</table>\n",
       "</div>"
      ],
      "text/plain": [
       "  CustomerID  CustomerName  yearofBirth  monthofBirth  dayofBirth  \\\n",
       "0   C5993228  Name_5993228         1972             5           5   \n",
       "1   C6546925  Name_6546925         1990            12          27   \n",
       "2   C7491750  Name_7491750         1966             7          25   \n",
       "3   C8462011  Name_8462011         1983             7           7   \n",
       "4   C3187447  Name_3187447         1983             8           9   \n",
       "\n",
       "   yearofEntry  monthofEntry  dayofEntry  Gender    Location  Education  \\\n",
       "0         2015            12          16    Male  Location13    unknown   \n",
       "1         2016            11          26  Female  Location11    primary   \n",
       "2         2011            10          24  Female  Location13    primary   \n",
       "3         2016             7           9    Male  Location11  secondary   \n",
       "4         2009             5          15    Male  Location11   tertiary   \n",
       "\n",
       "  MaritalStatus  Occupation Ownhouse  CreditScore  AccountBalance  \\\n",
       "0        single  management      yes          624            0.00   \n",
       "1       married      admin.      yes          777       134571.50   \n",
       "2       married      admin.      yes          707            0.00   \n",
       "3      divorced  management       no          746       172274.01   \n",
       "4      divorced  management       no          762            0.00   \n",
       "\n",
       "   NumberOfProducts  IsCreditCardCustomer  ActiveMember     Salary  \n",
       "0                 2                     1             1   62825.03  \n",
       "1                 1                     0             1  118313.38  \n",
       "2                 1                     1             0  109688.82  \n",
       "3                 1                     1             0   22374.97  \n",
       "4                 2                     1             1   43075.70  "
      ]
     },
     "execution_count": 5,
     "metadata": {},
     "output_type": "execute_result"
    }
   ],
   "source": [
    "Test_data.head()"
   ]
  },
  {
   "cell_type": "code",
   "execution_count": 6,
   "metadata": {},
   "outputs": [
    {
     "data": {
      "text/plain": [
       "int64      11\n",
       "object      8\n",
       "float64     2\n",
       "dtype: int64"
      ]
     },
     "execution_count": 6,
     "metadata": {},
     "output_type": "execute_result"
    }
   ],
   "source": [
    "# Count the column types\n",
    "Train_data.dtypes.value_counts()"
   ]
  },
  {
   "cell_type": "code",
   "execution_count": 7,
   "metadata": {},
   "outputs": [
    {
     "data": {
      "text/plain": [
       "CustomerID              0\n",
       "CustomerName            0\n",
       "yearofBirth             0\n",
       "monthofBirth            0\n",
       "dayofBirth              0\n",
       "yearofEntry             0\n",
       "monthofEntry            0\n",
       "dayofEntry              0\n",
       "Gender                  0\n",
       "Location                0\n",
       "Education               0\n",
       "MaritalStatus           0\n",
       "Occupation              0\n",
       "Ownhouse                0\n",
       "CreditScore             0\n",
       "AccountBalance          0\n",
       "NumberOfProducts        0\n",
       "IsCreditCardCustomer    0\n",
       "ActiveMember            0\n",
       "Salary                  0\n",
       "Churn                   0\n",
       "dtype: int64"
      ]
     },
     "execution_count": 7,
     "metadata": {},
     "output_type": "execute_result"
    }
   ],
   "source": [
    "# Check columns list and missing values\n",
    "Train_data.isnull().sum()"
   ]
  },
  {
   "cell_type": "code",
   "execution_count": 8,
   "metadata": {},
   "outputs": [
    {
     "data": {
      "text/plain": [
       "CustomerID              0\n",
       "CustomerName            0\n",
       "yearofBirth             0\n",
       "monthofBirth            0\n",
       "dayofBirth              0\n",
       "yearofEntry             0\n",
       "monthofEntry            0\n",
       "dayofEntry              0\n",
       "Gender                  0\n",
       "Location                0\n",
       "Education               0\n",
       "MaritalStatus           0\n",
       "Occupation              0\n",
       "Ownhouse                0\n",
       "CreditScore             0\n",
       "AccountBalance          0\n",
       "NumberOfProducts        0\n",
       "IsCreditCardCustomer    0\n",
       "ActiveMember            0\n",
       "Salary                  0\n",
       "dtype: int64"
      ]
     },
     "execution_count": 8,
     "metadata": {},
     "output_type": "execute_result"
    }
   ],
   "source": [
    "Test_data.isnull().sum()"
   ]
  },
  {
   "cell_type": "code",
   "execution_count": 9,
   "metadata": {},
   "outputs": [
    {
     "data": {
      "text/plain": [
       "CustomerID              7360\n",
       "CustomerName            7360\n",
       "yearofBirth               70\n",
       "monthofBirth              12\n",
       "dayofBirth                28\n",
       "yearofEntry               11\n",
       "monthofEntry              12\n",
       "dayofEntry                28\n",
       "Gender                     2\n",
       "Location                   3\n",
       "Education                  4\n",
       "MaritalStatus              3\n",
       "Occupation                 7\n",
       "Ownhouse                   3\n",
       "CreditScore              449\n",
       "AccountBalance          4706\n",
       "NumberOfProducts           4\n",
       "IsCreditCardCustomer       2\n",
       "ActiveMember               2\n",
       "Salary                  7359\n",
       "Churn                      2\n",
       "dtype: int64"
      ]
     },
     "execution_count": 9,
     "metadata": {},
     "output_type": "execute_result"
    }
   ],
   "source": [
    "# Get unique count for each variable\n",
    "Train_data.nunique()"
   ]
  },
  {
   "cell_type": "code",
   "execution_count": 10,
   "metadata": {},
   "outputs": [
    {
     "data": {
      "text/plain": [
       "CustomerID               object\n",
       "CustomerName             object\n",
       "yearofBirth               int64\n",
       "monthofBirth              int64\n",
       "dayofBirth                int64\n",
       "yearofEntry               int64\n",
       "monthofEntry              int64\n",
       "dayofEntry                int64\n",
       "Gender                   object\n",
       "Location                 object\n",
       "Education                object\n",
       "MaritalStatus            object\n",
       "Occupation               object\n",
       "Ownhouse                 object\n",
       "CreditScore               int64\n",
       "AccountBalance          float64\n",
       "NumberOfProducts          int64\n",
       "IsCreditCardCustomer      int64\n",
       "ActiveMember              int64\n",
       "Salary                  float64\n",
       "Churn                     int64\n",
       "dtype: object"
      ]
     },
     "execution_count": 10,
     "metadata": {},
     "output_type": "execute_result"
    }
   ],
   "source": [
    "#datatypes of data\n",
    "Train_data.dtypes"
   ]
  },
  {
   "cell_type": "code",
   "execution_count": 11,
   "metadata": {},
   "outputs": [
    {
     "data": {
      "text/plain": [
       "Index(['CustomerID', 'CustomerName', 'yearofBirth', 'monthofBirth',\n",
       "       'dayofBirth', 'yearofEntry', 'monthofEntry', 'dayofEntry', 'Gender',\n",
       "       'Location', 'Education', 'MaritalStatus', 'Occupation', 'Ownhouse',\n",
       "       'CreditScore', 'AccountBalance', 'NumberOfProducts',\n",
       "       'IsCreditCardCustomer', 'ActiveMember', 'Salary', 'Churn'],\n",
       "      dtype='object')"
      ]
     },
     "execution_count": 11,
     "metadata": {},
     "output_type": "execute_result"
    }
   ],
   "source": [
    "Train_data.columns"
   ]
  },
  {
   "cell_type": "code",
   "execution_count": 12,
   "metadata": {},
   "outputs": [],
   "source": [
    "for col in ('CustomerID', 'CustomerName', 'Gender',\n",
    "       'Location', 'Education', 'MaritalStatus', 'Occupation', 'Ownhouse',\n",
    "       'IsCreditCardCustomer', 'ActiveMember', 'Churn'):\n",
    "    Train_data[col] = Train_data[col].astype('category')\n",
    "    "
   ]
  },
  {
   "cell_type": "code",
   "execution_count": 13,
   "metadata": {},
   "outputs": [],
   "source": [
    "for col in ('CustomerID', 'CustomerName', 'Gender',\n",
    "       'Location', 'Education', 'MaritalStatus', 'Occupation', 'Ownhouse',\n",
    "       'IsCreditCardCustomer', 'ActiveMember'):\n",
    "    Test_data[col] = Test_data[col].astype('category')"
   ]
  },
  {
   "cell_type": "code",
   "execution_count": 14,
   "metadata": {},
   "outputs": [
    {
     "data": {
      "text/plain": [
       "CustomerID              category\n",
       "CustomerName            category\n",
       "yearofBirth                int64\n",
       "monthofBirth               int64\n",
       "dayofBirth                 int64\n",
       "yearofEntry                int64\n",
       "monthofEntry               int64\n",
       "dayofEntry                 int64\n",
       "Gender                  category\n",
       "Location                category\n",
       "Education               category\n",
       "MaritalStatus           category\n",
       "Occupation              category\n",
       "Ownhouse                category\n",
       "CreditScore                int64\n",
       "AccountBalance           float64\n",
       "NumberOfProducts           int64\n",
       "IsCreditCardCustomer    category\n",
       "ActiveMember            category\n",
       "Salary                   float64\n",
       "Churn                   category\n",
       "dtype: object"
      ]
     },
     "execution_count": 14,
     "metadata": {},
     "output_type": "execute_result"
    }
   ],
   "source": [
    "#for checking datatypes of data\n",
    "Train_data.dtypes"
   ]
  },
  {
   "cell_type": "markdown",
   "metadata": {},
   "source": [
    "### Splitting data into categorical_Attributes and numerical_Attributes"
   ]
  },
  {
   "cell_type": "code",
   "execution_count": 15,
   "metadata": {},
   "outputs": [
    {
     "ename": "NameError",
     "evalue": "name 'categorical_Attributes' is not defined",
     "output_type": "error",
     "traceback": [
      "\u001b[1;31m---------------------------------------------------------------------------\u001b[0m",
      "\u001b[1;31mNameError\u001b[0m                                 Traceback (most recent call last)",
      "\u001b[1;32m<ipython-input-15-186ba2b92311>\u001b[0m in \u001b[0;36m<module>\u001b[1;34m\u001b[0m\n\u001b[0;32m      1\u001b[0m \u001b[0mcategorical\u001b[0m \u001b[1;33m=\u001b[0m \u001b[0mlist\u001b[0m\u001b[1;33m(\u001b[0m\u001b[0mTrain_data\u001b[0m\u001b[1;33m.\u001b[0m\u001b[0mselect_dtypes\u001b[0m\u001b[1;33m(\u001b[0m\u001b[1;34m\"category\"\u001b[0m\u001b[1;33m)\u001b[0m\u001b[1;33m.\u001b[0m\u001b[0mcolumns\u001b[0m\u001b[1;33m)\u001b[0m\u001b[1;33m\u001b[0m\u001b[1;33m\u001b[0m\u001b[0m\n\u001b[1;32m----> 2\u001b[1;33m \u001b[0mnumeric\u001b[0m \u001b[1;33m=\u001b[0m \u001b[0mlist\u001b[0m\u001b[1;33m(\u001b[0m\u001b[0mTrain_data\u001b[0m\u001b[1;33m.\u001b[0m\u001b[0mcolumns\u001b[0m\u001b[1;33m.\u001b[0m\u001b[0mdifference\u001b[0m\u001b[1;33m(\u001b[0m\u001b[0mcategorical_Attributes\u001b[0m\u001b[1;33m)\u001b[0m\u001b[1;33m)\u001b[0m\u001b[1;33m\u001b[0m\u001b[1;33m\u001b[0m\u001b[0m\n\u001b[0m\u001b[0;32m      3\u001b[0m \u001b[1;33m\u001b[0m\u001b[0m\n\u001b[0;32m      4\u001b[0m \u001b[0mprint\u001b[0m\u001b[1;33m(\u001b[0m\u001b[0mcategorical\u001b[0m\u001b[1;33m)\u001b[0m\u001b[1;33m\u001b[0m\u001b[1;33m\u001b[0m\u001b[0m\n\u001b[0;32m      5\u001b[0m \u001b[0mprint\u001b[0m\u001b[1;33m(\u001b[0m\u001b[0mnumeric\u001b[0m\u001b[1;33m)\u001b[0m\u001b[1;33m\u001b[0m\u001b[1;33m\u001b[0m\u001b[0m\n",
      "\u001b[1;31mNameError\u001b[0m: name 'categorical_Attributes' is not defined"
     ]
    }
   ],
   "source": [
    "categorical = list(Train_data.select_dtypes(\"category\").columns)\n",
    "numeric = list(Train_data.columns.difference(categorical_Attributes))\n",
    "\n",
    "print(categorical)\n",
    "print(numeric)"
   ]
  },
  {
   "cell_type": "markdown",
   "metadata": {},
   "source": [
    "# Exploratory Data Analysis"
   ]
  },
  {
   "cell_type": "code",
   "execution_count": 17,
   "metadata": {},
   "outputs": [
    {
     "data": {
      "text/plain": [
       "0    0.797283\n",
       "1    0.202717\n",
       "Name: Churn, dtype: float64"
      ]
     },
     "execution_count": 17,
     "metadata": {},
     "output_type": "execute_result"
    }
   ],
   "source": [
    "Train_data['Churn'].value_counts(normalize=True)"
   ]
  },
  {
   "cell_type": "code",
   "execution_count": 589,
   "metadata": {},
   "outputs": [
    {
     "data": {
      "image/png": "[encoded data removed]",
      "text/plain": [
       "<Figure size 432x288 with 1 Axes>"
      ]
     },
     "metadata": {
      "needs_background": "light"
     },
     "output_type": "display_data"
    }
   ],
   "source": [
    "sns.countplot(x='Churn',data=Train_data)\n",
    "\n",
    "plt.savefig(\"Churn1.png\")"
   ]
  },
  {
   "cell_type": "markdown",
   "metadata": {},
   "source": [
    "*From this chart, one can see that there are many records with the target label  0  and fewer records with the target label  1 . One can see that the data records with a  0  label are about  79.72% , whereas  20.27%  of the data records are labeled  1 ."
   ]
  },
  {
   "cell_type": "code",
   "execution_count": 590,
   "metadata": {},
   "outputs": [
    {
     "data": {
      "text/html": [
       "<div>\n",
       "<style scoped>\n",
       "    .dataframe tbody tr th:only-of-type {\n",
       "        vertical-align: middle;\n",
       "    }\n",
       "\n",
       "    .dataframe tbody tr th {\n",
       "        vertical-align: top;\n",
       "    }\n",
       "\n",
       "    .dataframe thead th {\n",
       "        text-align: right;\n",
       "    }\n",
       "</style>\n",
       "<table border=\"1\" class=\"dataframe\">\n",
       "  <thead>\n",
       "    <tr style=\"text-align: right;\">\n",
       "      <th>Churn</th>\n",
       "      <th>0</th>\n",
       "      <th>1</th>\n",
       "    </tr>\n",
       "    <tr>\n",
       "      <th>NumberOfProducts</th>\n",
       "      <th></th>\n",
       "      <th></th>\n",
       "    </tr>\n",
       "  </thead>\n",
       "  <tbody>\n",
       "    <tr>\n",
       "      <th>1</th>\n",
       "      <td>2725</td>\n",
       "      <td>1043</td>\n",
       "    </tr>\n",
       "    <tr>\n",
       "      <th>2</th>\n",
       "      <td>3110</td>\n",
       "      <td>253</td>\n",
       "    </tr>\n",
       "    <tr>\n",
       "      <th>3</th>\n",
       "      <td>33</td>\n",
       "      <td>156</td>\n",
       "    </tr>\n",
       "    <tr>\n",
       "      <th>4</th>\n",
       "      <td>0</td>\n",
       "      <td>40</td>\n",
       "    </tr>\n",
       "  </tbody>\n",
       "</table>\n",
       "</div>"
      ],
      "text/plain": [
       "Churn                0     1\n",
       "NumberOfProducts            \n",
       "1                 2725  1043\n",
       "2                 3110   253\n",
       "3                   33   156\n",
       "4                    0    40"
      ]
     },
     "execution_count": 590,
     "metadata": {},
     "output_type": "execute_result"
    }
   ],
   "source": [
    "pd.crosstab(Train_data[\"NumberOfProducts\"],Train_data[\"Churn\"])"
   ]
  },
  {
   "cell_type": "code",
   "execution_count": 591,
   "metadata": {},
   "outputs": [
    {
     "data": {
      "image/png": "[encoded data removed]",
      "text/plain": [
       "<Figure size 1440x1440 with 10 Axes>"
      ]
     },
     "metadata": {
      "needs_background": "light"
     },
     "output_type": "display_data"
    }
   ],
   "source": [
    "def draw_histograms(dataframe, features, rows, cols):\n",
    "    fig=plt.figure(figsize=(20,20))\n",
    "    for i, feature in enumerate(features):\n",
    "        ax=fig.add_subplot(rows,cols,i+1)\n",
    "        dataframe[feature].hist(bins=20,ax=ax,facecolor='midnightblue')\n",
    "        ax.set_title(feature+\" Distribution\",color='Orange')\n",
    "        \n",
    "    fig.tight_layout()  \n",
    "    plt.show()\n",
    "draw_histograms(Train_data[numerical],Train_data[numerical].columns,9,3)"
   ]
  },
  {
   "cell_type": "markdown",
   "metadata": {},
   "source": [
    "# Correlation Heatmap"
   ]
  },
  {
   "cell_type": "code",
   "execution_count": 18,
   "metadata": {},
   "outputs": [
    {
     "data": {
      "image/png": "[encoded data removed]",
      "text/plain": [
       "<Figure size 576x576 with 2 Axes>"
      ]
     },
     "metadata": {
      "needs_background": "light"
     },
     "output_type": "display_data"
    }
   ],
   "source": [
    "### Correlation Heatmap \n",
    "f,ax = plt.subplots(figsize=(8, 8))\n",
    "sns.heatmap(Train_data.corr(), annot=True, linewidths=.5, fmt= '.3f',ax=ax)\n",
    "plt.savefig(\"corr_heatmap.png\")"
   ]
  },
  {
   "cell_type": "code",
   "execution_count": 593,
   "metadata": {},
   "outputs": [],
   "source": [
    "### Dropping some irrelevant variables of the Train Data and Test data\n",
    "\n",
    "colto_drop = ['CustomerID', 'CustomerName', 'dayofBirth', 'dayofEntry', 'monthofBirth', 'monthofEntry',\n",
    "                   'Education']\n",
    "for col in colto_drop:\n",
    "    Train_data.drop([col],axis=1,inplace=True)\n",
    "\n"
   ]
  },
  {
   "cell_type": "code",
   "execution_count": 594,
   "metadata": {},
   "outputs": [],
   "source": [
    "colto_drop = ['CustomerID', 'CustomerName', 'dayofBirth', 'dayofEntry', 'monthofBirth', 'monthofEntry',\n",
    "                   'Education']\n",
    "for col in colto_drop:\n",
    "    Test_data.drop([col],axis=1,inplace=True)"
   ]
  },
  {
   "cell_type": "code",
   "execution_count": 595,
   "metadata": {},
   "outputs": [
    {
     "name": "stdout",
     "output_type": "stream",
     "text": [
      "(7360, 14)\n",
      "(1840, 13)\n"
     ]
    }
   ],
   "source": [
    "print(Train_data.shape)\n",
    "print(Test_data.shape)"
   ]
  },
  {
   "cell_type": "code",
   "execution_count": 596,
   "metadata": {},
   "outputs": [],
   "source": [
    "x = Train_data.drop('Churn',1)"
   ]
  },
  {
   "cell_type": "code",
   "execution_count": 597,
   "metadata": {},
   "outputs": [
    {
     "name": "stdout",
     "output_type": "stream",
     "text": [
      "(7360, 13)\n",
      "(1840, 13)\n"
     ]
    }
   ],
   "source": [
    "print(x.shape)\n",
    "print(Test_data.shape)\n"
   ]
  },
  {
   "cell_type": "code",
   "execution_count": 598,
   "metadata": {},
   "outputs": [],
   "source": [
    "y = Train_data['Churn']"
   ]
  },
  {
   "cell_type": "code",
   "execution_count": 599,
   "metadata": {},
   "outputs": [
    {
     "data": {
      "text/html": [
       "<div>\n",
       "<style scoped>\n",
       "    .dataframe tbody tr th:only-of-type {\n",
       "        vertical-align: middle;\n",
       "    }\n",
       "\n",
       "    .dataframe tbody tr th {\n",
       "        vertical-align: top;\n",
       "    }\n",
       "\n",
       "    .dataframe thead th {\n",
       "        text-align: right;\n",
       "    }\n",
       "</style>\n",
       "<table border=\"1\" class=\"dataframe\">\n",
       "  <thead>\n",
       "    <tr style=\"text-align: right;\">\n",
       "      <th></th>\n",
       "      <th>yearofBirth</th>\n",
       "      <th>yearofEntry</th>\n",
       "      <th>CreditScore</th>\n",
       "      <th>AccountBalance</th>\n",
       "      <th>NumberOfProducts</th>\n",
       "      <th>Salary</th>\n",
       "      <th>Gender_Female</th>\n",
       "      <th>Gender_Male</th>\n",
       "      <th>Location_Location11</th>\n",
       "      <th>Location_Location12</th>\n",
       "      <th>...</th>\n",
       "      <th>Occupation_services</th>\n",
       "      <th>Occupation_technician</th>\n",
       "      <th>Occupation_unknown</th>\n",
       "      <th>Ownhouse_no</th>\n",
       "      <th>Ownhouse_unknown</th>\n",
       "      <th>Ownhouse_yes</th>\n",
       "      <th>IsCreditCardCustomer_0</th>\n",
       "      <th>IsCreditCardCustomer_1</th>\n",
       "      <th>ActiveMember_0</th>\n",
       "      <th>ActiveMember_1</th>\n",
       "    </tr>\n",
       "  </thead>\n",
       "  <tbody>\n",
       "    <tr>\n",
       "      <th>0</th>\n",
       "      <td>1980</td>\n",
       "      <td>2014</td>\n",
       "      <td>716</td>\n",
       "      <td>0.00</td>\n",
       "      <td>2</td>\n",
       "      <td>189678.70</td>\n",
       "      <td>0</td>\n",
       "      <td>1</td>\n",
       "      <td>1</td>\n",
       "      <td>0</td>\n",
       "      <td>...</td>\n",
       "      <td>0</td>\n",
       "      <td>0</td>\n",
       "      <td>0</td>\n",
       "      <td>1</td>\n",
       "      <td>0</td>\n",
       "      <td>0</td>\n",
       "      <td>0</td>\n",
       "      <td>1</td>\n",
       "      <td>1</td>\n",
       "      <td>0</td>\n",
       "    </tr>\n",
       "    <tr>\n",
       "      <th>1</th>\n",
       "      <td>1986</td>\n",
       "      <td>2011</td>\n",
       "      <td>568</td>\n",
       "      <td>169399.60</td>\n",
       "      <td>1</td>\n",
       "      <td>61936.22</td>\n",
       "      <td>1</td>\n",
       "      <td>0</td>\n",
       "      <td>0</td>\n",
       "      <td>0</td>\n",
       "      <td>...</td>\n",
       "      <td>0</td>\n",
       "      <td>0</td>\n",
       "      <td>0</td>\n",
       "      <td>1</td>\n",
       "      <td>0</td>\n",
       "      <td>0</td>\n",
       "      <td>0</td>\n",
       "      <td>1</td>\n",
       "      <td>1</td>\n",
       "      <td>0</td>\n",
       "    </tr>\n",
       "    <tr>\n",
       "      <th>2</th>\n",
       "      <td>1999</td>\n",
       "      <td>2013</td>\n",
       "      <td>739</td>\n",
       "      <td>89750.21</td>\n",
       "      <td>1</td>\n",
       "      <td>193008.52</td>\n",
       "      <td>0</td>\n",
       "      <td>1</td>\n",
       "      <td>0</td>\n",
       "      <td>0</td>\n",
       "      <td>...</td>\n",
       "      <td>0</td>\n",
       "      <td>0</td>\n",
       "      <td>1</td>\n",
       "      <td>0</td>\n",
       "      <td>1</td>\n",
       "      <td>0</td>\n",
       "      <td>0</td>\n",
       "      <td>1</td>\n",
       "      <td>1</td>\n",
       "      <td>0</td>\n",
       "    </tr>\n",
       "    <tr>\n",
       "      <th>3</th>\n",
       "      <td>1969</td>\n",
       "      <td>2015</td>\n",
       "      <td>678</td>\n",
       "      <td>204510.94</td>\n",
       "      <td>1</td>\n",
       "      <td>738.88</td>\n",
       "      <td>1</td>\n",
       "      <td>0</td>\n",
       "      <td>1</td>\n",
       "      <td>0</td>\n",
       "      <td>...</td>\n",
       "      <td>0</td>\n",
       "      <td>0</td>\n",
       "      <td>0</td>\n",
       "      <td>0</td>\n",
       "      <td>0</td>\n",
       "      <td>1</td>\n",
       "      <td>1</td>\n",
       "      <td>0</td>\n",
       "      <td>0</td>\n",
       "      <td>1</td>\n",
       "    </tr>\n",
       "    <tr>\n",
       "      <th>4</th>\n",
       "      <td>1993</td>\n",
       "      <td>2012</td>\n",
       "      <td>670</td>\n",
       "      <td>0.00</td>\n",
       "      <td>2</td>\n",
       "      <td>78358.94</td>\n",
       "      <td>0</td>\n",
       "      <td>1</td>\n",
       "      <td>0</td>\n",
       "      <td>0</td>\n",
       "      <td>...</td>\n",
       "      <td>0</td>\n",
       "      <td>0</td>\n",
       "      <td>0</td>\n",
       "      <td>1</td>\n",
       "      <td>0</td>\n",
       "      <td>0</td>\n",
       "      <td>0</td>\n",
       "      <td>1</td>\n",
       "      <td>0</td>\n",
       "      <td>1</td>\n",
       "    </tr>\n",
       "  </tbody>\n",
       "</table>\n",
       "<p>5 rows × 28 columns</p>\n",
       "</div>"
      ],
      "text/plain": [
       "   yearofBirth  yearofEntry  CreditScore  AccountBalance  NumberOfProducts  \\\n",
       "0         1980         2014          716            0.00                 2   \n",
       "1         1986         2011          568       169399.60                 1   \n",
       "2         1999         2013          739        89750.21                 1   \n",
       "3         1969         2015          678       204510.94                 1   \n",
       "4         1993         2012          670            0.00                 2   \n",
       "\n",
       "      Salary  Gender_Female  Gender_Male  Location_Location11  \\\n",
       "0  189678.70              0            1                    1   \n",
       "1   61936.22              1            0                    0   \n",
       "2  193008.52              0            1                    0   \n",
       "3     738.88              1            0                    1   \n",
       "4   78358.94              0            1                    0   \n",
       "\n",
       "   Location_Location12  ...  Occupation_services  Occupation_technician  \\\n",
       "0                    0  ...                    0                      0   \n",
       "1                    0  ...                    0                      0   \n",
       "2                    0  ...                    0                      0   \n",
       "3                    0  ...                    0                      0   \n",
       "4                    0  ...                    0                      0   \n",
       "\n",
       "   Occupation_unknown  Ownhouse_no  Ownhouse_unknown  Ownhouse_yes  \\\n",
       "0                   0            1                 0             0   \n",
       "1                   0            1                 0             0   \n",
       "2                   1            0                 1             0   \n",
       "3                   0            0                 0             1   \n",
       "4                   0            1                 0             0   \n",
       "\n",
       "   IsCreditCardCustomer_0  IsCreditCardCustomer_1  ActiveMember_0  \\\n",
       "0                       0                       1               1   \n",
       "1                       0                       1               1   \n",
       "2                       0                       1               1   \n",
       "3                       1                       0               0   \n",
       "4                       0                       1               0   \n",
       "\n",
       "   ActiveMember_1  \n",
       "0               0  \n",
       "1               0  \n",
       "2               0  \n",
       "3               1  \n",
       "4               1  \n",
       "\n",
       "[5 rows x 28 columns]"
      ]
     },
     "execution_count": 599,
     "metadata": {},
     "output_type": "execute_result"
    }
   ],
   "source": [
    "### Dummification ###\n",
    "x_dummies = pd.get_dummies(x)\n",
    "x_dummies.head()"
   ]
  },
  {
   "cell_type": "code",
   "execution_count": 600,
   "metadata": {},
   "outputs": [
    {
     "data": {
      "text/plain": [
       "(7360, 28)"
      ]
     },
     "execution_count": 600,
     "metadata": {},
     "output_type": "execute_result"
    }
   ],
   "source": [
    "x_dummies.shape"
   ]
  },
  {
   "cell_type": "code",
   "execution_count": 601,
   "metadata": {},
   "outputs": [
    {
     "data": {
      "text/html": [
       "<div>\n",
       "<style scoped>\n",
       "    .dataframe tbody tr th:only-of-type {\n",
       "        vertical-align: middle;\n",
       "    }\n",
       "\n",
       "    .dataframe tbody tr th {\n",
       "        vertical-align: top;\n",
       "    }\n",
       "\n",
       "    .dataframe thead th {\n",
       "        text-align: right;\n",
       "    }\n",
       "</style>\n",
       "<table border=\"1\" class=\"dataframe\">\n",
       "  <thead>\n",
       "    <tr style=\"text-align: right;\">\n",
       "      <th></th>\n",
       "      <th>yearofBirth</th>\n",
       "      <th>yearofEntry</th>\n",
       "      <th>CreditScore</th>\n",
       "      <th>AccountBalance</th>\n",
       "      <th>NumberOfProducts</th>\n",
       "      <th>Salary</th>\n",
       "      <th>Gender_Female</th>\n",
       "      <th>Gender_Male</th>\n",
       "      <th>Location_Location11</th>\n",
       "      <th>Location_Location12</th>\n",
       "      <th>...</th>\n",
       "      <th>Occupation_services</th>\n",
       "      <th>Occupation_technician</th>\n",
       "      <th>Occupation_unknown</th>\n",
       "      <th>Ownhouse_no</th>\n",
       "      <th>Ownhouse_unknown</th>\n",
       "      <th>Ownhouse_yes</th>\n",
       "      <th>IsCreditCardCustomer_0</th>\n",
       "      <th>IsCreditCardCustomer_1</th>\n",
       "      <th>ActiveMember_0</th>\n",
       "      <th>ActiveMember_1</th>\n",
       "    </tr>\n",
       "  </thead>\n",
       "  <tbody>\n",
       "    <tr>\n",
       "      <th>0</th>\n",
       "      <td>1972</td>\n",
       "      <td>2015</td>\n",
       "      <td>624</td>\n",
       "      <td>0.00</td>\n",
       "      <td>2</td>\n",
       "      <td>62825.03</td>\n",
       "      <td>0</td>\n",
       "      <td>1</td>\n",
       "      <td>0</td>\n",
       "      <td>0</td>\n",
       "      <td>...</td>\n",
       "      <td>0</td>\n",
       "      <td>0</td>\n",
       "      <td>0</td>\n",
       "      <td>0</td>\n",
       "      <td>0</td>\n",
       "      <td>1</td>\n",
       "      <td>0</td>\n",
       "      <td>1</td>\n",
       "      <td>0</td>\n",
       "      <td>1</td>\n",
       "    </tr>\n",
       "    <tr>\n",
       "      <th>1</th>\n",
       "      <td>1990</td>\n",
       "      <td>2016</td>\n",
       "      <td>777</td>\n",
       "      <td>134571.50</td>\n",
       "      <td>1</td>\n",
       "      <td>118313.38</td>\n",
       "      <td>1</td>\n",
       "      <td>0</td>\n",
       "      <td>1</td>\n",
       "      <td>0</td>\n",
       "      <td>...</td>\n",
       "      <td>0</td>\n",
       "      <td>0</td>\n",
       "      <td>0</td>\n",
       "      <td>0</td>\n",
       "      <td>0</td>\n",
       "      <td>1</td>\n",
       "      <td>1</td>\n",
       "      <td>0</td>\n",
       "      <td>0</td>\n",
       "      <td>1</td>\n",
       "    </tr>\n",
       "    <tr>\n",
       "      <th>2</th>\n",
       "      <td>1966</td>\n",
       "      <td>2011</td>\n",
       "      <td>707</td>\n",
       "      <td>0.00</td>\n",
       "      <td>1</td>\n",
       "      <td>109688.82</td>\n",
       "      <td>1</td>\n",
       "      <td>0</td>\n",
       "      <td>0</td>\n",
       "      <td>0</td>\n",
       "      <td>...</td>\n",
       "      <td>0</td>\n",
       "      <td>0</td>\n",
       "      <td>0</td>\n",
       "      <td>0</td>\n",
       "      <td>0</td>\n",
       "      <td>1</td>\n",
       "      <td>0</td>\n",
       "      <td>1</td>\n",
       "      <td>1</td>\n",
       "      <td>0</td>\n",
       "    </tr>\n",
       "    <tr>\n",
       "      <th>3</th>\n",
       "      <td>1983</td>\n",
       "      <td>2016</td>\n",
       "      <td>746</td>\n",
       "      <td>172274.01</td>\n",
       "      <td>1</td>\n",
       "      <td>22374.97</td>\n",
       "      <td>0</td>\n",
       "      <td>1</td>\n",
       "      <td>1</td>\n",
       "      <td>0</td>\n",
       "      <td>...</td>\n",
       "      <td>0</td>\n",
       "      <td>0</td>\n",
       "      <td>0</td>\n",
       "      <td>1</td>\n",
       "      <td>0</td>\n",
       "      <td>0</td>\n",
       "      <td>0</td>\n",
       "      <td>1</td>\n",
       "      <td>1</td>\n",
       "      <td>0</td>\n",
       "    </tr>\n",
       "    <tr>\n",
       "      <th>4</th>\n",
       "      <td>1983</td>\n",
       "      <td>2009</td>\n",
       "      <td>762</td>\n",
       "      <td>0.00</td>\n",
       "      <td>2</td>\n",
       "      <td>43075.70</td>\n",
       "      <td>0</td>\n",
       "      <td>1</td>\n",
       "      <td>1</td>\n",
       "      <td>0</td>\n",
       "      <td>...</td>\n",
       "      <td>0</td>\n",
       "      <td>0</td>\n",
       "      <td>0</td>\n",
       "      <td>1</td>\n",
       "      <td>0</td>\n",
       "      <td>0</td>\n",
       "      <td>0</td>\n",
       "      <td>1</td>\n",
       "      <td>0</td>\n",
       "      <td>1</td>\n",
       "    </tr>\n",
       "  </tbody>\n",
       "</table>\n",
       "<p>5 rows × 28 columns</p>\n",
       "</div>"
      ],
      "text/plain": [
       "   yearofBirth  yearofEntry  CreditScore  AccountBalance  NumberOfProducts  \\\n",
       "0         1972         2015          624            0.00                 2   \n",
       "1         1990         2016          777       134571.50                 1   \n",
       "2         1966         2011          707            0.00                 1   \n",
       "3         1983         2016          746       172274.01                 1   \n",
       "4         1983         2009          762            0.00                 2   \n",
       "\n",
       "      Salary  Gender_Female  Gender_Male  Location_Location11  \\\n",
       "0   62825.03              0            1                    0   \n",
       "1  118313.38              1            0                    1   \n",
       "2  109688.82              1            0                    0   \n",
       "3   22374.97              0            1                    1   \n",
       "4   43075.70              0            1                    1   \n",
       "\n",
       "   Location_Location12  ...  Occupation_services  Occupation_technician  \\\n",
       "0                    0  ...                    0                      0   \n",
       "1                    0  ...                    0                      0   \n",
       "2                    0  ...                    0                      0   \n",
       "3                    0  ...                    0                      0   \n",
       "4                    0  ...                    0                      0   \n",
       "\n",
       "   Occupation_unknown  Ownhouse_no  Ownhouse_unknown  Ownhouse_yes  \\\n",
       "0                   0            0                 0             1   \n",
       "1                   0            0                 0             1   \n",
       "2                   0            0                 0             1   \n",
       "3                   0            1                 0             0   \n",
       "4                   0            1                 0             0   \n",
       "\n",
       "   IsCreditCardCustomer_0  IsCreditCardCustomer_1  ActiveMember_0  \\\n",
       "0                       0                       1               0   \n",
       "1                       1                       0               0   \n",
       "2                       0                       1               1   \n",
       "3                       0                       1               1   \n",
       "4                       0                       1               0   \n",
       "\n",
       "   ActiveMember_1  \n",
       "0               1  \n",
       "1               1  \n",
       "2               0  \n",
       "3               0  \n",
       "4               1  \n",
       "\n",
       "[5 rows x 28 columns]"
      ]
     },
     "execution_count": 601,
     "metadata": {},
     "output_type": "execute_result"
    }
   ],
   "source": [
    "Test_data_dummies = pd.get_dummies(Test_data)\n",
    "Test_data_dummies.head()"
   ]
  },
  {
   "cell_type": "code",
   "execution_count": 602,
   "metadata": {},
   "outputs": [
    {
     "data": {
      "text/html": [
       "<div>\n",
       "<style scoped>\n",
       "    .dataframe tbody tr th:only-of-type {\n",
       "        vertical-align: middle;\n",
       "    }\n",
       "\n",
       "    .dataframe tbody tr th {\n",
       "        vertical-align: top;\n",
       "    }\n",
       "\n",
       "    .dataframe thead th {\n",
       "        text-align: right;\n",
       "    }\n",
       "</style>\n",
       "<table border=\"1\" class=\"dataframe\">\n",
       "  <thead>\n",
       "    <tr style=\"text-align: right;\">\n",
       "      <th></th>\n",
       "      <th>yearofBirth</th>\n",
       "      <th>yearofEntry</th>\n",
       "      <th>CreditScore</th>\n",
       "      <th>AccountBalance</th>\n",
       "      <th>NumberOfProducts</th>\n",
       "      <th>Salary</th>\n",
       "      <th>Gender_Female</th>\n",
       "      <th>Gender_Male</th>\n",
       "      <th>Location_Location11</th>\n",
       "      <th>Location_Location12</th>\n",
       "      <th>...</th>\n",
       "      <th>Occupation_services</th>\n",
       "      <th>Occupation_technician</th>\n",
       "      <th>Occupation_unknown</th>\n",
       "      <th>Ownhouse_no</th>\n",
       "      <th>Ownhouse_unknown</th>\n",
       "      <th>Ownhouse_yes</th>\n",
       "      <th>IsCreditCardCustomer_0</th>\n",
       "      <th>IsCreditCardCustomer_1</th>\n",
       "      <th>ActiveMember_0</th>\n",
       "      <th>ActiveMember_1</th>\n",
       "    </tr>\n",
       "  </thead>\n",
       "  <tbody>\n",
       "    <tr>\n",
       "      <th>0</th>\n",
       "      <td>1972</td>\n",
       "      <td>2015</td>\n",
       "      <td>624</td>\n",
       "      <td>0.00</td>\n",
       "      <td>2</td>\n",
       "      <td>62825.03</td>\n",
       "      <td>0</td>\n",
       "      <td>1</td>\n",
       "      <td>0</td>\n",
       "      <td>0</td>\n",
       "      <td>...</td>\n",
       "      <td>0</td>\n",
       "      <td>0</td>\n",
       "      <td>0</td>\n",
       "      <td>0</td>\n",
       "      <td>0</td>\n",
       "      <td>1</td>\n",
       "      <td>0</td>\n",
       "      <td>1</td>\n",
       "      <td>0</td>\n",
       "      <td>1</td>\n",
       "    </tr>\n",
       "    <tr>\n",
       "      <th>1</th>\n",
       "      <td>1990</td>\n",
       "      <td>2016</td>\n",
       "      <td>777</td>\n",
       "      <td>134571.50</td>\n",
       "      <td>1</td>\n",
       "      <td>118313.38</td>\n",
       "      <td>1</td>\n",
       "      <td>0</td>\n",
       "      <td>1</td>\n",
       "      <td>0</td>\n",
       "      <td>...</td>\n",
       "      <td>0</td>\n",
       "      <td>0</td>\n",
       "      <td>0</td>\n",
       "      <td>0</td>\n",
       "      <td>0</td>\n",
       "      <td>1</td>\n",
       "      <td>1</td>\n",
       "      <td>0</td>\n",
       "      <td>0</td>\n",
       "      <td>1</td>\n",
       "    </tr>\n",
       "    <tr>\n",
       "      <th>2</th>\n",
       "      <td>1966</td>\n",
       "      <td>2011</td>\n",
       "      <td>707</td>\n",
       "      <td>0.00</td>\n",
       "      <td>1</td>\n",
       "      <td>109688.82</td>\n",
       "      <td>1</td>\n",
       "      <td>0</td>\n",
       "      <td>0</td>\n",
       "      <td>0</td>\n",
       "      <td>...</td>\n",
       "      <td>0</td>\n",
       "      <td>0</td>\n",
       "      <td>0</td>\n",
       "      <td>0</td>\n",
       "      <td>0</td>\n",
       "      <td>1</td>\n",
       "      <td>0</td>\n",
       "      <td>1</td>\n",
       "      <td>1</td>\n",
       "      <td>0</td>\n",
       "    </tr>\n",
       "    <tr>\n",
       "      <th>3</th>\n",
       "      <td>1983</td>\n",
       "      <td>2016</td>\n",
       "      <td>746</td>\n",
       "      <td>172274.01</td>\n",
       "      <td>1</td>\n",
       "      <td>22374.97</td>\n",
       "      <td>0</td>\n",
       "      <td>1</td>\n",
       "      <td>1</td>\n",
       "      <td>0</td>\n",
       "      <td>...</td>\n",
       "      <td>0</td>\n",
       "      <td>0</td>\n",
       "      <td>0</td>\n",
       "      <td>1</td>\n",
       "      <td>0</td>\n",
       "      <td>0</td>\n",
       "      <td>0</td>\n",
       "      <td>1</td>\n",
       "      <td>1</td>\n",
       "      <td>0</td>\n",
       "    </tr>\n",
       "    <tr>\n",
       "      <th>4</th>\n",
       "      <td>1983</td>\n",
       "      <td>2009</td>\n",
       "      <td>762</td>\n",
       "      <td>0.00</td>\n",
       "      <td>2</td>\n",
       "      <td>43075.70</td>\n",
       "      <td>0</td>\n",
       "      <td>1</td>\n",
       "      <td>1</td>\n",
       "      <td>0</td>\n",
       "      <td>...</td>\n",
       "      <td>0</td>\n",
       "      <td>0</td>\n",
       "      <td>0</td>\n",
       "      <td>1</td>\n",
       "      <td>0</td>\n",
       "      <td>0</td>\n",
       "      <td>0</td>\n",
       "      <td>1</td>\n",
       "      <td>0</td>\n",
       "      <td>1</td>\n",
       "    </tr>\n",
       "  </tbody>\n",
       "</table>\n",
       "<p>5 rows × 28 columns</p>\n",
       "</div>"
      ],
      "text/plain": [
       "   yearofBirth  yearofEntry  CreditScore  AccountBalance  NumberOfProducts  \\\n",
       "0         1972         2015          624            0.00                 2   \n",
       "1         1990         2016          777       134571.50                 1   \n",
       "2         1966         2011          707            0.00                 1   \n",
       "3         1983         2016          746       172274.01                 1   \n",
       "4         1983         2009          762            0.00                 2   \n",
       "\n",
       "      Salary  Gender_Female  Gender_Male  Location_Location11  \\\n",
       "0   62825.03              0            1                    0   \n",
       "1  118313.38              1            0                    1   \n",
       "2  109688.82              1            0                    0   \n",
       "3   22374.97              0            1                    1   \n",
       "4   43075.70              0            1                    1   \n",
       "\n",
       "   Location_Location12  ...  Occupation_services  Occupation_technician  \\\n",
       "0                    0  ...                    0                      0   \n",
       "1                    0  ...                    0                      0   \n",
       "2                    0  ...                    0                      0   \n",
       "3                    0  ...                    0                      0   \n",
       "4                    0  ...                    0                      0   \n",
       "\n",
       "   Occupation_unknown  Ownhouse_no  Ownhouse_unknown  Ownhouse_yes  \\\n",
       "0                   0            0                 0             1   \n",
       "1                   0            0                 0             1   \n",
       "2                   0            0                 0             1   \n",
       "3                   0            1                 0             0   \n",
       "4                   0            1                 0             0   \n",
       "\n",
       "   IsCreditCardCustomer_0  IsCreditCardCustomer_1  ActiveMember_0  \\\n",
       "0                       0                       1               0   \n",
       "1                       1                       0               0   \n",
       "2                       0                       1               1   \n",
       "3                       0                       1               1   \n",
       "4                       0                       1               0   \n",
       "\n",
       "   ActiveMember_1  \n",
       "0               1  \n",
       "1               1  \n",
       "2               0  \n",
       "3               0  \n",
       "4               1  \n",
       "\n",
       "[5 rows x 28 columns]"
      ]
     },
     "execution_count": 602,
     "metadata": {},
     "output_type": "execute_result"
    }
   ],
   "source": [
    "Test_data_dummies.head()"
   ]
  },
  {
   "cell_type": "markdown",
   "metadata": {},
   "source": [
    "# Normalizing the Data"
   ]
  },
  {
   "cell_type": "code",
   "execution_count": 603,
   "metadata": {},
   "outputs": [],
   "source": [
    "from sklearn_pandas import DataFrameMapper, cross_val_score"
   ]
  },
  {
   "cell_type": "code",
   "execution_count": 604,
   "metadata": {},
   "outputs": [],
   "source": [
    "from sklearn.preprocessing import StandardScaler\n",
    "scaled_features = StandardScaler().fit_transform(x_dummies)\n",
    "scaled_features_df = pd.DataFrame(scaled_features, index=x_dummies.index, columns=x_dummies.columns)"
   ]
  },
  {
   "cell_type": "code",
   "execution_count": 605,
   "metadata": {},
   "outputs": [
    {
     "data": {
      "text/html": [
       "<div>\n",
       "<style scoped>\n",
       "    .dataframe tbody tr th:only-of-type {\n",
       "        vertical-align: middle;\n",
       "    }\n",
       "\n",
       "    .dataframe tbody tr th {\n",
       "        vertical-align: top;\n",
       "    }\n",
       "\n",
       "    .dataframe thead th {\n",
       "        text-align: right;\n",
       "    }\n",
       "</style>\n",
       "<table border=\"1\" class=\"dataframe\">\n",
       "  <thead>\n",
       "    <tr style=\"text-align: right;\">\n",
       "      <th></th>\n",
       "      <th>yearofBirth</th>\n",
       "      <th>yearofEntry</th>\n",
       "      <th>CreditScore</th>\n",
       "      <th>AccountBalance</th>\n",
       "      <th>NumberOfProducts</th>\n",
       "      <th>Salary</th>\n",
       "      <th>Gender_Female</th>\n",
       "      <th>Gender_Male</th>\n",
       "      <th>Location_Location11</th>\n",
       "      <th>Location_Location12</th>\n",
       "      <th>...</th>\n",
       "      <th>Occupation_services</th>\n",
       "      <th>Occupation_technician</th>\n",
       "      <th>Occupation_unknown</th>\n",
       "      <th>Ownhouse_no</th>\n",
       "      <th>Ownhouse_unknown</th>\n",
       "      <th>Ownhouse_yes</th>\n",
       "      <th>IsCreditCardCustomer_0</th>\n",
       "      <th>IsCreditCardCustomer_1</th>\n",
       "      <th>ActiveMember_0</th>\n",
       "      <th>ActiveMember_1</th>\n",
       "    </tr>\n",
       "  </thead>\n",
       "  <tbody>\n",
       "    <tr>\n",
       "      <th>0</th>\n",
       "      <td>0.089944</td>\n",
       "      <td>0.350294</td>\n",
       "      <td>0.675376</td>\n",
       "      <td>-1.226835</td>\n",
       "      <td>0.823394</td>\n",
       "      <td>1.564583</td>\n",
       "      <td>-0.918022</td>\n",
       "      <td>0.918022</td>\n",
       "      <td>0.996474</td>\n",
       "      <td>-0.576095</td>\n",
       "      <td>...</td>\n",
       "      <td>-0.339838</td>\n",
       "      <td>-0.341824</td>\n",
       "      <td>-0.344545</td>\n",
       "      <td>0.998914</td>\n",
       "      <td>-0.163225</td>\n",
       "      <td>-0.948343</td>\n",
       "      <td>-0.648095</td>\n",
       "      <td>0.648095</td>\n",
       "      <td>1.021147</td>\n",
       "      <td>-1.021147</td>\n",
       "    </tr>\n",
       "    <tr>\n",
       "      <th>1</th>\n",
       "      <td>0.663340</td>\n",
       "      <td>-0.684836</td>\n",
       "      <td>-0.854139</td>\n",
       "      <td>1.486252</td>\n",
       "      <td>-0.908581</td>\n",
       "      <td>-0.663283</td>\n",
       "      <td>1.089299</td>\n",
       "      <td>-1.089299</td>\n",
       "      <td>-1.003539</td>\n",
       "      <td>-0.576095</td>\n",
       "      <td>...</td>\n",
       "      <td>-0.339838</td>\n",
       "      <td>-0.341824</td>\n",
       "      <td>-0.344545</td>\n",
       "      <td>0.998914</td>\n",
       "      <td>-0.163225</td>\n",
       "      <td>-0.948343</td>\n",
       "      <td>-0.648095</td>\n",
       "      <td>0.648095</td>\n",
       "      <td>1.021147</td>\n",
       "      <td>-1.021147</td>\n",
       "    </tr>\n",
       "    <tr>\n",
       "      <th>2</th>\n",
       "      <td>1.905700</td>\n",
       "      <td>0.005251</td>\n",
       "      <td>0.913071</td>\n",
       "      <td>0.210595</td>\n",
       "      <td>-0.908581</td>\n",
       "      <td>1.622656</td>\n",
       "      <td>-0.918022</td>\n",
       "      <td>0.918022</td>\n",
       "      <td>-1.003539</td>\n",
       "      <td>-0.576095</td>\n",
       "      <td>...</td>\n",
       "      <td>-0.339838</td>\n",
       "      <td>-0.341824</td>\n",
       "      <td>2.902381</td>\n",
       "      <td>-1.001088</td>\n",
       "      <td>6.126502</td>\n",
       "      <td>-0.948343</td>\n",
       "      <td>-0.648095</td>\n",
       "      <td>0.648095</td>\n",
       "      <td>1.021147</td>\n",
       "      <td>-1.021147</td>\n",
       "    </tr>\n",
       "    <tr>\n",
       "      <th>3</th>\n",
       "      <td>-0.961283</td>\n",
       "      <td>0.695337</td>\n",
       "      <td>0.282663</td>\n",
       "      <td>2.048591</td>\n",
       "      <td>-0.908581</td>\n",
       "      <td>-1.730583</td>\n",
       "      <td>1.089299</td>\n",
       "      <td>-1.089299</td>\n",
       "      <td>0.996474</td>\n",
       "      <td>-0.576095</td>\n",
       "      <td>...</td>\n",
       "      <td>-0.339838</td>\n",
       "      <td>-0.341824</td>\n",
       "      <td>-0.344545</td>\n",
       "      <td>-1.001088</td>\n",
       "      <td>-0.163225</td>\n",
       "      <td>1.054471</td>\n",
       "      <td>1.542984</td>\n",
       "      <td>-1.542984</td>\n",
       "      <td>-0.979290</td>\n",
       "      <td>0.979290</td>\n",
       "    </tr>\n",
       "    <tr>\n",
       "      <th>4</th>\n",
       "      <td>1.332303</td>\n",
       "      <td>-0.339792</td>\n",
       "      <td>0.199986</td>\n",
       "      <td>-1.226835</td>\n",
       "      <td>0.823394</td>\n",
       "      <td>-0.376866</td>\n",
       "      <td>-0.918022</td>\n",
       "      <td>0.918022</td>\n",
       "      <td>-1.003539</td>\n",
       "      <td>-0.576095</td>\n",
       "      <td>...</td>\n",
       "      <td>-0.339838</td>\n",
       "      <td>-0.341824</td>\n",
       "      <td>-0.344545</td>\n",
       "      <td>0.998914</td>\n",
       "      <td>-0.163225</td>\n",
       "      <td>-0.948343</td>\n",
       "      <td>-0.648095</td>\n",
       "      <td>0.648095</td>\n",
       "      <td>-0.979290</td>\n",
       "      <td>0.979290</td>\n",
       "    </tr>\n",
       "  </tbody>\n",
       "</table>\n",
       "<p>5 rows × 28 columns</p>\n",
       "</div>"
      ],
      "text/plain": [
       "   yearofBirth  yearofEntry  CreditScore  AccountBalance  NumberOfProducts  \\\n",
       "0     0.089944     0.350294     0.675376       -1.226835          0.823394   \n",
       "1     0.663340    -0.684836    -0.854139        1.486252         -0.908581   \n",
       "2     1.905700     0.005251     0.913071        0.210595         -0.908581   \n",
       "3    -0.961283     0.695337     0.282663        2.048591         -0.908581   \n",
       "4     1.332303    -0.339792     0.199986       -1.226835          0.823394   \n",
       "\n",
       "     Salary  Gender_Female  Gender_Male  Location_Location11  \\\n",
       "0  1.564583      -0.918022     0.918022             0.996474   \n",
       "1 -0.663283       1.089299    -1.089299            -1.003539   \n",
       "2  1.622656      -0.918022     0.918022            -1.003539   \n",
       "3 -1.730583       1.089299    -1.089299             0.996474   \n",
       "4 -0.376866      -0.918022     0.918022            -1.003539   \n",
       "\n",
       "   Location_Location12  ...  Occupation_services  Occupation_technician  \\\n",
       "0            -0.576095  ...            -0.339838              -0.341824   \n",
       "1            -0.576095  ...            -0.339838              -0.341824   \n",
       "2            -0.576095  ...            -0.339838              -0.341824   \n",
       "3            -0.576095  ...            -0.339838              -0.341824   \n",
       "4            -0.576095  ...            -0.339838              -0.341824   \n",
       "\n",
       "   Occupation_unknown  Ownhouse_no  Ownhouse_unknown  Ownhouse_yes  \\\n",
       "0           -0.344545     0.998914         -0.163225     -0.948343   \n",
       "1           -0.344545     0.998914         -0.163225     -0.948343   \n",
       "2            2.902381    -1.001088          6.126502     -0.948343   \n",
       "3           -0.344545    -1.001088         -0.163225      1.054471   \n",
       "4           -0.344545     0.998914         -0.163225     -0.948343   \n",
       "\n",
       "   IsCreditCardCustomer_0  IsCreditCardCustomer_1  ActiveMember_0  \\\n",
       "0               -0.648095                0.648095        1.021147   \n",
       "1               -0.648095                0.648095        1.021147   \n",
       "2               -0.648095                0.648095        1.021147   \n",
       "3                1.542984               -1.542984       -0.979290   \n",
       "4               -0.648095                0.648095       -0.979290   \n",
       "\n",
       "   ActiveMember_1  \n",
       "0       -1.021147  \n",
       "1       -1.021147  \n",
       "2       -1.021147  \n",
       "3        0.979290  \n",
       "4        0.979290  \n",
       "\n",
       "[5 rows x 28 columns]"
      ]
     },
     "execution_count": 605,
     "metadata": {},
     "output_type": "execute_result"
    }
   ],
   "source": [
    "scaled_features_df.head()"
   ]
  },
  {
   "cell_type": "code",
   "execution_count": 606,
   "metadata": {},
   "outputs": [],
   "source": [
    "from sklearn.preprocessing import MinMaxScaler\n",
    "Normal = MinMaxScaler()\n",
    "train_scaler = Normal.fit_transform(x_dummies)\n",
    "test_scaler = Normal.transform(Test_data_dummies)"
   ]
  },
  {
   "cell_type": "code",
   "execution_count": 607,
   "metadata": {},
   "outputs": [
    {
     "data": {
      "text/plain": [
       "(7360, 28)"
      ]
     },
     "execution_count": 607,
     "metadata": {},
     "output_type": "execute_result"
    }
   ],
   "source": [
    "train_scaler.shape"
   ]
  },
  {
   "cell_type": "code",
   "execution_count": 608,
   "metadata": {},
   "outputs": [
    {
     "data": {
      "text/plain": [
       "(1840, 28)"
      ]
     },
     "execution_count": 608,
     "metadata": {},
     "output_type": "execute_result"
    }
   ],
   "source": [
    "test_scaler.shape"
   ]
  },
  {
   "cell_type": "markdown",
   "metadata": {},
   "source": [
    "# Train_test_split"
   ]
  },
  {
   "cell_type": "code",
   "execution_count": 609,
   "metadata": {},
   "outputs": [
    {
     "name": "stdout",
     "output_type": "stream",
     "text": [
      "Training set has (5152, 28) samples.\n",
      "Testing set has (2208, 28) samples.\n"
     ]
    }
   ],
   "source": [
    "# Import train_test_split\n",
    "from sklearn.model_selection import train_test_split,cross_val_score\n",
    "# Split the 'features' and 'Target' data into training and validation sets\n",
    "seed = 1234\n",
    "X_train, X_val, y_train, y_val = train_test_split(train_scaler, y, test_size = 0.3, random_state = seed)\n",
    "# Show the results of the split\n",
    "print(\"Training set has {} samples.\".format(X_train.shape))\n",
    "print(\"Testing set has {} samples.\".format(X_val.shape))"
   ]
  },
  {
   "cell_type": "markdown",
   "metadata": {},
   "source": [
    "# Model Building "
   ]
  },
  {
   "cell_type": "markdown",
   "metadata": {},
   "source": [
    "# Logistic Reggression "
   ]
  },
  {
   "cell_type": "code",
   "execution_count": 610,
   "metadata": {},
   "outputs": [],
   "source": [
    "from sklearn.linear_model import LogisticRegression\n",
    "from sklearn.metrics import accuracy_score"
   ]
  },
  {
   "cell_type": "code",
   "execution_count": 611,
   "metadata": {},
   "outputs": [
    {
     "data": {
      "text/plain": [
       "LogisticRegression(C=1.0, class_weight=None, dual=False, fit_intercept=True,\n",
       "                   intercept_scaling=1, l1_ratio=None, max_iter=100,\n",
       "                   multi_class='auto', n_jobs=None, penalty='l2',\n",
       "                   random_state=None, solver='lbfgs', tol=0.0001, verbose=0,\n",
       "                   warm_start=False)"
      ]
     },
     "execution_count": 611,
     "metadata": {},
     "output_type": "execute_result"
    }
   ],
   "source": [
    "model = LogisticRegression()\n",
    "model.fit(X_train, y_train)"
   ]
  },
  {
   "cell_type": "code",
   "execution_count": 612,
   "metadata": {},
   "outputs": [],
   "source": [
    "pred  = model.predict(X_train)"
   ]
  },
  {
   "cell_type": "code",
   "execution_count": 613,
   "metadata": {},
   "outputs": [
    {
     "data": {
      "text/plain": [
       "0.8260869565217391"
      ]
     },
     "execution_count": 613,
     "metadata": {},
     "output_type": "execute_result"
    }
   ],
   "source": [
    "### Predicting the Train Accuracy and classification Report\n",
    "accuracy_score(y_train,pred)"
   ]
  },
  {
   "cell_type": "code",
   "execution_count": 614,
   "metadata": {},
   "outputs": [
    {
     "name": "stdout",
     "output_type": "stream",
     "text": [
      "              precision    recall  f1-score   support\n",
      "\n",
      "           0       0.84      0.97      0.90      4111\n",
      "           1       0.70      0.25      0.36      1041\n",
      "\n",
      "    accuracy                           0.83      5152\n",
      "   macro avg       0.77      0.61      0.63      5152\n",
      "weighted avg       0.81      0.83      0.79      5152\n",
      "\n"
     ]
    }
   ],
   "source": [
    "from sklearn.metrics import classification_report\n",
    "print(classification_report(y_train,pred))"
   ]
  },
  {
   "cell_type": "code",
   "execution_count": 615,
   "metadata": {},
   "outputs": [
    {
     "data": {
      "text/plain": [
       "0.8192934782608695"
      ]
     },
     "execution_count": 615,
     "metadata": {},
     "output_type": "execute_result"
    }
   ],
   "source": [
    "### Predicting the Validation Accuracy and classification Report\n",
    "accuracy_score(y_val,model.predict(X_val))\n"
   ]
  },
  {
   "cell_type": "code",
   "execution_count": 616,
   "metadata": {},
   "outputs": [
    {
     "name": "stdout",
     "output_type": "stream",
     "text": [
      "              precision    recall  f1-score   support\n",
      "\n",
      "           0       0.83      0.97      0.90      1757\n",
      "           1       0.68      0.22      0.33       451\n",
      "\n",
      "    accuracy                           0.82      2208\n",
      "   macro avg       0.75      0.60      0.61      2208\n",
      "weighted avg       0.80      0.82      0.78      2208\n",
      "\n"
     ]
    }
   ],
   "source": [
    "print(classification_report(y_val,model.predict(X_val)))"
   ]
  },
  {
   "cell_type": "code",
   "execution_count": 617,
   "metadata": {},
   "outputs": [],
   "source": [
    "### Predicting the Test Data\n",
    "pred_test = model.predict(test_scaler)"
   ]
  },
  {
   "cell_type": "code",
   "execution_count": 618,
   "metadata": {},
   "outputs": [
    {
     "data": {
      "text/html": [
       "<div>\n",
       "<style scoped>\n",
       "    .dataframe tbody tr th:only-of-type {\n",
       "        vertical-align: middle;\n",
       "    }\n",
       "\n",
       "    .dataframe tbody tr th {\n",
       "        vertical-align: top;\n",
       "    }\n",
       "\n",
       "    .dataframe thead th {\n",
       "        text-align: right;\n",
       "    }\n",
       "</style>\n",
       "<table border=\"1\" class=\"dataframe\">\n",
       "  <thead>\n",
       "    <tr style=\"text-align: right;\">\n",
       "      <th></th>\n",
       "      <th>CustomerID</th>\n",
       "      <th>Churn</th>\n",
       "    </tr>\n",
       "  </thead>\n",
       "  <tbody>\n",
       "    <tr>\n",
       "      <th>0</th>\n",
       "      <td>C5993228</td>\n",
       "      <td>0</td>\n",
       "    </tr>\n",
       "    <tr>\n",
       "      <th>1</th>\n",
       "      <td>C6546925</td>\n",
       "      <td>0</td>\n",
       "    </tr>\n",
       "    <tr>\n",
       "      <th>2</th>\n",
       "      <td>C7491750</td>\n",
       "      <td>0</td>\n",
       "    </tr>\n",
       "    <tr>\n",
       "      <th>3</th>\n",
       "      <td>C8462011</td>\n",
       "      <td>0</td>\n",
       "    </tr>\n",
       "    <tr>\n",
       "      <th>4</th>\n",
       "      <td>C3187447</td>\n",
       "      <td>0</td>\n",
       "    </tr>\n",
       "  </tbody>\n",
       "</table>\n",
       "</div>"
      ],
      "text/plain": [
       "  CustomerID  Churn\n",
       "0   C5993228      0\n",
       "1   C6546925      0\n",
       "2   C7491750      0\n",
       "3   C8462011      0\n",
       "4   C3187447      0"
      ]
     },
     "execution_count": 618,
     "metadata": {},
     "output_type": "execute_result"
    }
   ],
   "source": [
    "submission = pd.read_csv('submission.csv')\n",
    "submission['Churn']=pred_test\n",
    "submission.head()"
   ]
  },
  {
   "cell_type": "code",
   "execution_count": 619,
   "metadata": {},
   "outputs": [],
   "source": [
    "submission_logRegression = submission.to_csv(\"submission_logRegression.csv\",index = False)"
   ]
  },
  {
   "cell_type": "markdown",
   "metadata": {},
   "source": [
    "# Support Vector Classifier\n"
   ]
  },
  {
   "cell_type": "code",
   "execution_count": 620,
   "metadata": {},
   "outputs": [],
   "source": [
    "from sklearn.svm import SVC\n",
    "supportvector = SVC(kernel='rbf',random_state=1234)\n"
   ]
  },
  {
   "cell_type": "code",
   "execution_count": 621,
   "metadata": {},
   "outputs": [
    {
     "data": {
      "text/plain": [
       "SVC(C=1.0, break_ties=False, cache_size=200, class_weight=None, coef0=0.0,\n",
       "    decision_function_shape='ovr', degree=3, gamma='scale', kernel='rbf',\n",
       "    max_iter=-1, probability=False, random_state=1234, shrinking=True,\n",
       "    tol=0.001, verbose=False)"
      ]
     },
     "execution_count": 621,
     "metadata": {},
     "output_type": "execute_result"
    }
   ],
   "source": [
    "supportvector.fit(X_train,y_train)"
   ]
  },
  {
   "cell_type": "code",
   "execution_count": 622,
   "metadata": {},
   "outputs": [
    {
     "name": "stdout",
     "output_type": "stream",
     "text": [
      "0.8107531055900621\n",
      "              precision    recall  f1-score   support\n",
      "\n",
      "           0       0.81      1.00      0.89      4111\n",
      "           1       0.89      0.07      0.13      1041\n",
      "\n",
      "    accuracy                           0.81      5152\n",
      "   macro avg       0.85      0.53      0.51      5152\n",
      "weighted avg       0.83      0.81      0.74      5152\n",
      "\n"
     ]
    }
   ],
   "source": [
    "### Predicting the Train Accuracy and classification Report\n",
    "print(accuracy_score(y_train,supportvector.predict(X_train)))\n",
    "print(classification_report(y_train,supportvector.predict(X_train)))"
   ]
  },
  {
   "cell_type": "code",
   "execution_count": 623,
   "metadata": {},
   "outputs": [
    {
     "name": "stdout",
     "output_type": "stream",
     "text": [
      "0.8016304347826086\n",
      "              precision    recall  f1-score   support\n",
      "\n",
      "           0       0.80      1.00      0.89      1757\n",
      "           1       0.72      0.05      0.09       451\n",
      "\n",
      "    accuracy                           0.80      2208\n",
      "   macro avg       0.76      0.52      0.49      2208\n",
      "weighted avg       0.79      0.80      0.73      2208\n",
      "\n"
     ]
    }
   ],
   "source": [
    "### Predicting the Validation Accuracy and classification Report\n",
    "print(accuracy_score(y_val,supportvector.predict(X_val)))\n",
    "print(classification_report(y_val,supportvector.predict(X_val)))"
   ]
  },
  {
   "cell_type": "code",
   "execution_count": 624,
   "metadata": {},
   "outputs": [],
   "source": [
    "### Predicting the Test Data\n",
    "pred_svc = supportvector.predict(test_scaler)"
   ]
  },
  {
   "cell_type": "code",
   "execution_count": 625,
   "metadata": {},
   "outputs": [
    {
     "data": {
      "text/html": [
       "<div>\n",
       "<style scoped>\n",
       "    .dataframe tbody tr th:only-of-type {\n",
       "        vertical-align: middle;\n",
       "    }\n",
       "\n",
       "    .dataframe tbody tr th {\n",
       "        vertical-align: top;\n",
       "    }\n",
       "\n",
       "    .dataframe thead th {\n",
       "        text-align: right;\n",
       "    }\n",
       "</style>\n",
       "<table border=\"1\" class=\"dataframe\">\n",
       "  <thead>\n",
       "    <tr style=\"text-align: right;\">\n",
       "      <th></th>\n",
       "      <th>CustomerID</th>\n",
       "      <th>Churn</th>\n",
       "    </tr>\n",
       "  </thead>\n",
       "  <tbody>\n",
       "    <tr>\n",
       "      <th>0</th>\n",
       "      <td>C5993228</td>\n",
       "      <td>0</td>\n",
       "    </tr>\n",
       "    <tr>\n",
       "      <th>1</th>\n",
       "      <td>C6546925</td>\n",
       "      <td>0</td>\n",
       "    </tr>\n",
       "    <tr>\n",
       "      <th>2</th>\n",
       "      <td>C7491750</td>\n",
       "      <td>0</td>\n",
       "    </tr>\n",
       "    <tr>\n",
       "      <th>3</th>\n",
       "      <td>C8462011</td>\n",
       "      <td>0</td>\n",
       "    </tr>\n",
       "    <tr>\n",
       "      <th>4</th>\n",
       "      <td>C3187447</td>\n",
       "      <td>0</td>\n",
       "    </tr>\n",
       "  </tbody>\n",
       "</table>\n",
       "</div>"
      ],
      "text/plain": [
       "  CustomerID  Churn\n",
       "0   C5993228      0\n",
       "1   C6546925      0\n",
       "2   C7491750      0\n",
       "3   C8462011      0\n",
       "4   C3187447      0"
      ]
     },
     "execution_count": 625,
     "metadata": {},
     "output_type": "execute_result"
    }
   ],
   "source": [
    "### Writing the Predicted values into CSV \n",
    "sub1 = pd.read_csv('submission.csv')\n",
    "sub1['Churn']=pred_svc\n",
    "sub1.head()\n"
   ]
  },
  {
   "cell_type": "code",
   "execution_count": 626,
   "metadata": {},
   "outputs": [],
   "source": [
    "submission_svc = submission.to_csv(\"submission_svc.csv\",index = False)"
   ]
  },
  {
   "cell_type": "markdown",
   "metadata": {},
   "source": [
    "# KNN Classifier"
   ]
  },
  {
   "cell_type": "code",
   "execution_count": 627,
   "metadata": {},
   "outputs": [
    {
     "data": {
      "text/plain": [
       "KNeighborsClassifier(algorithm='auto', leaf_size=30, metric='minkowski',\n",
       "                     metric_params=None, n_jobs=None, n_neighbors=5, p=2,\n",
       "                     weights='uniform')"
      ]
     },
     "execution_count": 627,
     "metadata": {},
     "output_type": "execute_result"
    }
   ],
   "source": [
    "\n",
    "from sklearn.neighbors import KNeighborsClassifier\n",
    "KNN = KNeighborsClassifier()\n",
    "KNN.fit(X_train, y_train)"
   ]
  },
  {
   "cell_type": "code",
   "execution_count": 628,
   "metadata": {},
   "outputs": [
    {
     "name": "stdout",
     "output_type": "stream",
     "text": [
      "0.8385093167701864\n",
      "              precision    recall  f1-score   support\n",
      "\n",
      "           0       0.85      0.97      0.91      4111\n",
      "           1       0.72      0.32      0.45      1041\n",
      "\n",
      "    accuracy                           0.84      5152\n",
      "   macro avg       0.79      0.65      0.68      5152\n",
      "weighted avg       0.82      0.84      0.81      5152\n",
      "\n"
     ]
    }
   ],
   "source": [
    "\n",
    "### ### Predicting the Train Accuracy and classification Report\n",
    "print(accuracy_score(y_train,KNN.predict(X_train)))\n",
    "print(classification_report(y_train,KNN.predict(X_train)))"
   ]
  },
  {
   "cell_type": "code",
   "execution_count": 629,
   "metadata": {},
   "outputs": [
    {
     "name": "stdout",
     "output_type": "stream",
     "text": [
      "0.779891304347826\n",
      "              precision    recall  f1-score   support\n",
      "\n",
      "           0       0.81      0.95      0.87      1757\n",
      "           1       0.39      0.14      0.20       451\n",
      "\n",
      "    accuracy                           0.78      2208\n",
      "   macro avg       0.60      0.54      0.54      2208\n",
      "weighted avg       0.72      0.78      0.74      2208\n",
      "\n"
     ]
    }
   ],
   "source": [
    "\n",
    "### Predicting the Validation Accuracy and classification Report\n",
    "print(accuracy_score(y_val,KNN.predict(X_val)))\n",
    "print(classification_report(y_val,KNN.predict(X_val)))"
   ]
  },
  {
   "cell_type": "code",
   "execution_count": 630,
   "metadata": {},
   "outputs": [],
   "source": [
    "\n",
    "### Predicting the Test Data\n",
    "pred_KNN = KNN.predict(test_scaler)"
   ]
  },
  {
   "cell_type": "code",
   "execution_count": 631,
   "metadata": {},
   "outputs": [
    {
     "data": {
      "text/html": [
       "<div>\n",
       "<style scoped>\n",
       "    .dataframe tbody tr th:only-of-type {\n",
       "        vertical-align: middle;\n",
       "    }\n",
       "\n",
       "    .dataframe tbody tr th {\n",
       "        vertical-align: top;\n",
       "    }\n",
       "\n",
       "    .dataframe thead th {\n",
       "        text-align: right;\n",
       "    }\n",
       "</style>\n",
       "<table border=\"1\" class=\"dataframe\">\n",
       "  <thead>\n",
       "    <tr style=\"text-align: right;\">\n",
       "      <th></th>\n",
       "      <th>CustomerID</th>\n",
       "      <th>Churn</th>\n",
       "    </tr>\n",
       "  </thead>\n",
       "  <tbody>\n",
       "    <tr>\n",
       "      <th>0</th>\n",
       "      <td>C5993228</td>\n",
       "      <td>0</td>\n",
       "    </tr>\n",
       "    <tr>\n",
       "      <th>1</th>\n",
       "      <td>C6546925</td>\n",
       "      <td>0</td>\n",
       "    </tr>\n",
       "    <tr>\n",
       "      <th>2</th>\n",
       "      <td>C7491750</td>\n",
       "      <td>0</td>\n",
       "    </tr>\n",
       "    <tr>\n",
       "      <th>3</th>\n",
       "      <td>C8462011</td>\n",
       "      <td>0</td>\n",
       "    </tr>\n",
       "    <tr>\n",
       "      <th>4</th>\n",
       "      <td>C3187447</td>\n",
       "      <td>0</td>\n",
       "    </tr>\n",
       "  </tbody>\n",
       "</table>\n",
       "</div>"
      ],
      "text/plain": [
       "  CustomerID  Churn\n",
       "0   C5993228      0\n",
       "1   C6546925      0\n",
       "2   C7491750      0\n",
       "3   C8462011      0\n",
       "4   C3187447      0"
      ]
     },
     "execution_count": 631,
     "metadata": {},
     "output_type": "execute_result"
    }
   ],
   "source": [
    "### Writing the Predicted values into CSV \n",
    "sub1 = pd.read_csv('submission.csv')\n",
    "sub1['Churn']=pred_KNN\n",
    "sub1.head()"
   ]
  },
  {
   "cell_type": "code",
   "execution_count": 632,
   "metadata": {},
   "outputs": [],
   "source": [
    "submission_KNN = submission.to_csv(\"submission_KNN.csv\",index = False)"
   ]
  }
 ],
 "metadata": {
  "kernelspec": {
   "display_name": "Python 3",
   "language": "python",
   "name": "python3"
  },
  "language_info": {
   "codemirror_mode": {
    "name": "ipython",
    "version": 3
   },
   "file_extension": ".py",
   "mimetype": "text/x-python",
   "name": "python",
   "nbconvert_exporter": "python",
   "pygments_lexer": "ipython3",
   "version": "3.7.3"
  }
 },
 "nbformat": 4,
 "nbformat_minor": 2
}
